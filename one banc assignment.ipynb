{
 "cells": [
  {
   "cell_type": "markdown",
   "id": "84405a8c",
   "metadata": {},
   "source": [
    "# MPIN TASK"
   ]
  },
  {
   "cell_type": "code",
   "execution_count": 10,
   "id": "1624170f",
   "metadata": {},
   "outputs": [],
   "source": [
    "import datetime\n",
    "\n",
    "COMMON_MPINS_FOUR_DIGIT = {\n",
    "    \"1234\", \"1111\", \"0000\", \"1212\", \"1122\", \"6969\", \"4321\", \"9999\",\n",
    "    \"2222\", \"5555\", \"6666\", \"7777\", \"2000\", \"1004\", \"1313\", \"8888\",\n",
    "    \"1230\", \"9876\", \"1010\", \"1100\", \"1331\", \"1441\", \"1001\", \"1221\",\n",
    "    \"2112\", \"3113\", \"4004\", \"4114\", \"1224\", \"2412\", \"2020\", \"0101\", \"4567\"\n",
    "}\n",
    "\n",
    "COMMON_MPINS_SIX_DIGIT = {\n",
    "    \"123456\", \"111111\", \"000000\", \"121212\", \"654321\", \"999999\", \"666666\", \"888888\"\n",
    "}\n",
    "\n",
    "DATE_FORMAT_INPUT = \"%d-%m-%Y\"\n",
    "DATE_PATTERNS_FOUR_DIGIT_INPUT= [\"%d%m\", \"%m%d\", \"%y%m\", \"%m%y\", \"%y%d\", \"%d%y\", \"%Y\", \"%y\"]\n",
    "DATE_PATTERNS_SIX_DIGIT_INPUT = [\"%d%m%y\", \"%m%d%y\", \"%y%m%d\", \"%d%m%Y\", \"%Y%m%d\", \"%Y\", \"%y\"]\n",
    "\n",
    "def extract_date_variant_parts(date_str, patterns, fmt=DATE_FORMAT):\n",
    "    try:\n",
    "        date_object= datetime.datetime.strptime(date_str, fmt)\n",
    "        return {date.strftime(p) for p in patterns}\n",
    "    except ValueError:\n",
    "        return set()\n"
   ]
  },
  {
   "cell_type": "code",
   "execution_count": 22,
   "id": "da4f691e",
   "metadata": {},
   "outputs": [],
   "source": [
    "def check_mpin_strengthen_security(pin, dob_self=None, dob_spouse=None, anniversary=None):\n",
    "    vulnerability_reasons= []\n",
    "    is_pin_weak = False\n",
    "\n",
    "    pin_length = len(pin)\n",
    "    common_pins = COMMON_MPINS_FOUR_DIGIT if pin_length == 4 else COMMON_MPINS_SIX_DIGIT\n",
    "    date_patterns =DATE_PATTERNS_FOUR_DIGIT_INPUT if pin_length == 4 else DATE_PATTERNS_SIX_DIGIT_INPUT\n",
    "\n",
    "    if pin in common_pins:\n",
    "        is_pin_weak = True\n",
    "        vulnerability_reasons.append(\"COMMONLY_USED\")\n",
    "\n",
    "    def match_demographic(date_str, reason_code):\n",
    "        parts = extract_date_parts(date_str, date_patterns)\n",
    "        if pin in parts:\n",
    "            vulnerability_reasons.append(reason_code)\n",
    "            return True\n",
    "        return False\n",
    "\n",
    "    if dob_self:\n",
    "        is_pin_weak |= match_demographic(dob_self, \"DEMOGRAPHIC_DOB_SELF\")\n",
    "    if dob_spouse:\n",
    "        is_pin_weak |= match_demographic(dob_spouse, \"DEMOGRAPHIC_DOB_SPOUSE\")\n",
    "    if anniversary:\n",
    "        is_pin_weak |= match_demographic(anniversary, \"DEMOGRAPHIC_ANNIVERSARY\")\n",
    "\n",
    "    return {\n",
    "        \"strength\": \"WEAK\" if is_pin_weak else \"STRONG\",\n",
    "        \"reasons\": vulnerability_reasons\n",
    "    }"
   ]
  },
  {
   "cell_type": "code",
   "execution_count": 23,
   "id": "cd82492a",
   "metadata": {},
   "outputs": [
    {
     "name": "stdout",
     "output_type": "stream",
     "text": [
      "Test 01: PIN = 1234 -> Strength: WEAK | Reasons: ['COMMONLY_USED']\n",
      "Test 02: PIN = 0298 -> Strength: WEAK | Reasons: ['DEMOGRAPHIC_DOB_SELF']\n",
      "Test 03: PIN = 9802 -> Strength: WEAK | Reasons: ['DEMOGRAPHIC_DOB_SELF']\n",
      "Test 04: PIN = 0102 -> Strength: STRONG | Reasons: []\n",
      "Test 05: PIN = 1202 -> Strength: WEAK | Reasons: ['DEMOGRAPHIC_ANNIVERSARY']\n",
      "Test 06: PIN = 8888 -> Strength: WEAK | Reasons: ['COMMONLY_USED']\n",
      "Test 07: PIN = 4567 -> Strength: WEAK | Reasons: ['COMMONLY_USED']\n",
      "Test 08: PIN = 1998 -> Strength: STRONG | Reasons: []\n",
      "Test 09: PIN = 1998 -> Strength: WEAK | Reasons: ['DEMOGRAPHIC_DOB_SPOUSE']\n",
      "Test 10: PIN = 1998 -> Strength: WEAK | Reasons: ['DEMOGRAPHIC_ANNIVERSARY']\n",
      "Test 11: PIN = 4321 -> Strength: WEAK | Reasons: ['COMMONLY_USED']\n",
      "Test 12: PIN = 2501 -> Strength: WEAK | Reasons: ['DEMOGRAPHIC_DOB_SELF']\n",
      "Test 13: PIN = 2512 -> Strength: WEAK | Reasons: ['DEMOGRAPHIC_ANNIVERSARY']\n",
      "Test 14: PIN = 2020 -> Strength: WEAK | Reasons: ['COMMONLY_USED', 'DEMOGRAPHIC_ANNIVERSARY']\n",
      "Test 15: PIN = 0102 -> Strength: WEAK | Reasons: ['DEMOGRAPHIC_DOB_SELF']\n",
      "Test 16: PIN = 123456 -> Strength: WEAK | Reasons: ['COMMONLY_USED']\n",
      "Test 17: PIN = 010203 -> Strength: WEAK | Reasons: ['DEMOGRAPHIC_DOB_SELF']\n",
      "Test 18: PIN = 000000 -> Strength: WEAK | Reasons: ['COMMONLY_USED']\n",
      "Test 19: PIN = 987654 -> Strength: STRONG | Reasons: []\n",
      "Test 20: PIN = 250504 -> Strength: WEAK | Reasons: ['DEMOGRAPHIC_DOB_SELF']\n"
     ]
    }
   ],
   "source": [
    "# -------------------- Test Cases --------------------\n",
    "test_cases = [\n",
    "    (\"1234\", None, None, None),\n",
    "    (\"0298\", \"02-01-1998\", None, None),\n",
    "    (\"9802\", \"02-01-1998\", None, None),\n",
    "    (\"0102\", None, \"01-01-2000\", None),\n",
    "    (\"1202\", None, None, \"12-02-2022\"),\n",
    "    (\"8888\", None, None, None),\n",
    "    (\"4567\", None, None, None),\n",
    "    (\"1998\", \"02-01-2004\", None, None),\n",
    "    (\"1998\", None, \"02-01-1998\", None),\n",
    "    (\"1998\", None, None, \"02-01-1998\"),\n",
    "    (\"4321\", None, None, None),\n",
    "    (\"2501\", \"25-01-2000\", None, None),\n",
    "    (\"2512\", None, None, \"25-12-2020\"),\n",
    "    (\"2020\", None, None, \"01-01-2020\"),\n",
    "    (\"0102\", \"01-02-1995\", None, None),\n",
    "    (\"123456\", \"12-03-2001\", None, None),\n",
    "    (\"010203\", \"01-02-2003\", None, None),\n",
    "    (\"000000\", None, None, None),\n",
    "    (\"987654\", None, None, None),\n",
    "    (\"250504\", \"25-05-2004\", None, None)\n",
    "]\n",
    "\n",
    "for i, (pin, dob, spouse_dob, anniv) in enumerate(test_cases, 1):\n",
    "    result = check_mpin_strengthen_security(pin, dob, spouse_dob, anniv)\n",
    "    print(f\"Test {i:02}: PIN = {pin} -> Strength: {result['strength']} | Reasons: {result['reasons']}\")\n"
   ]
  },
  {
   "cell_type": "code",
   "execution_count": null,
   "id": "b2456640",
   "metadata": {},
   "outputs": [],
   "source": []
  }
 ],
 "metadata": {
  "kernelspec": {
   "display_name": "Python 3 (ipykernel)",
   "language": "python",
   "name": "python3"
  },
  "language_info": {
   "codemirror_mode": {
    "name": "ipython",
    "version": 3
   },
   "file_extension": ".py",
   "mimetype": "text/x-python",
   "name": "python",
   "nbconvert_exporter": "python",
   "pygments_lexer": "ipython3",
   "version": "3.11.4"
  }
 },
 "nbformat": 4,
 "nbformat_minor": 5
}
